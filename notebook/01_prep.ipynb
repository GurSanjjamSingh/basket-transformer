{
 "cells": [
  {
   "cell_type": "code",
   "execution_count": null,
   "id": "26c9362a-e779-46fe-82a4-241aa11f734c",
   "metadata": {},
   "outputs": [],
   "source": [
    "import pandas as pd"
   ]
  },
  {
   "cell_type": "code",
   "execution_count": null,
   "id": "cd6becac-9da3-4a08-8d11-c830be5cc0a6",
   "metadata": {},
   "outputs": [],
   "source": [
    "tx = pd.read_csv('/Users/gursanjjam/Documents/basket-transformer/dunnhumby/transaction_data.csv')\n",
    "prod = pd.read_csv('/Users/gursanjjam/Documents/basket-transformer/dunnhumby/product.csv')"
   ]
  },
  {
   "cell_type": "code",
   "execution_count": null,
   "id": "5e5f1ea5-2f09-4792-b032-b54d44a49022",
   "metadata": {},
   "outputs": [
    {
     "name": "stdout",
     "output_type": "stream",
     "text": [
      "TRANSACTION\n",
      "    household_key    BASKET_ID  DAY  PRODUCT_ID  QUANTITY  SALES_VALUE  \\\n",
      "0           2375  26984851472    1     1004906         1         1.39   \n",
      "1           2375  26984851472    1     1033142         1         0.82   \n",
      "2           2375  26984851472    1     1036325         1         0.99   \n",
      "3           2375  26984851472    1     1082185         1         1.21   \n",
      "4           2375  26984851472    1     8160430         1         1.50   \n",
      "\n",
      "   STORE_ID  RETAIL_DISC  TRANS_TIME  WEEK_NO  COUPON_DISC  COUPON_MATCH_DISC  \n",
      "0       364        -0.60        1631        1          0.0                0.0  \n",
      "1       364         0.00        1631        1          0.0                0.0  \n",
      "2       364        -0.30        1631        1          0.0                0.0  \n",
      "3       364         0.00        1631        1          0.0                0.0  \n",
      "4       364        -0.39        1631        1          0.0                0.0  \n",
      "\n",
      "Unique products: 92339\n",
      "\n",
      "Unique households: 2500\n",
      "\n",
      "\n",
      "\n",
      "\n",
      "PRODUCT\n",
      "    PRODUCT_ID  MANUFACTURER    DEPARTMENT     BRAND            COMMODITY_DESC  \\\n",
      "0       25671             2       GROCERY  National                  FRZN ICE   \n",
      "1       26081             2  MISC. TRANS.  National  NO COMMODITY DESCRIPTION   \n",
      "2       26093            69        PASTRY   Private                     BREAD   \n",
      "3       26190            69       GROCERY   Private      FRUIT - SHELF STABLE   \n",
      "4       26355            69       GROCERY   Private             COOKIES/CONES   \n",
      "\n",
      "            SUB_COMMODITY_DESC CURR_SIZE_OF_PRODUCT  \n",
      "0          ICE - CRUSHED/CUBED                22 LB  \n",
      "1  NO SUBCOMMODITY DESCRIPTION                       \n",
      "2         BREAD:ITALIAN/FRENCH                       \n",
      "3                  APPLE SAUCE                50 OZ  \n",
      "4            SPECIALTY COOKIES                14 OZ  \n"
     ]
    }
   ],
   "source": [
    "print(\"TRANSACTION\\n\",tx.head())\n",
    "print(\"\\nUnique products:\", tx['PRODUCT_ID'].nunique())\n",
    "print(\"\\nUnique households:\", tx['household_key'].nunique())\n",
    "print('\\n\\n\\n\\nPRODUCT\\n',prod.head())"
   ]
  },
  {
   "cell_type": "code",
   "execution_count": null,
   "id": "3a8345c1-a25d-4133-baa8-18d2b15242a1",
   "metadata": {},
   "outputs": [],
   "source": [
    "tx = tx.merge(prod, on=\"PRODUCT_ID\", how=\"left\") #each row gets prod_id, department, category, subcategory for vector embeddings later"
   ]
  },
  {
   "cell_type": "markdown",
   "id": "aa1cf840-0f50-4d52-adcd-b70eb22bd983",
   "metadata": {},
   "source": [
    "## sessionizing data into baskets"
   ]
  },
  {
   "cell_type": "code",
   "execution_count": null,
   "id": "a444fa76-6da9-4c7e-b191-34999eb6d786",
   "metadata": {},
   "outputs": [],
   "source": [
    "#sorting\n",
    "tx = tx.sort_values(['household_key', 'DAY', 'BASKET_ID']) #in order of importance\n",
    "\n",
    "baskets = (\n",
    "    tx.groupby(['household_key', 'BASKET_ID'])['PRODUCT_ID']\n",
    "      .apply(list)   #turns into list\n",
    "      .reset_index(name='products')    #turning multi index series into data frame\n",
    ")"
   ]
  },
  {
   "cell_type": "code",
   "execution_count": null,
   "id": "c1937c58-b3c4-4323-94cf-b89c3624704a",
   "metadata": {},
   "outputs": [
    {
     "name": "stdout",
     "output_type": "stream",
     "text": [
      "   household_key    BASKET_ID  \\\n",
      "0              1  27601281299   \n",
      "1              1  27774192959   \n",
      "2              1  28024266849   \n",
      "3              1  28106322445   \n",
      "4              1  28235481967   \n",
      "\n",
      "                                            products  \n",
      "0  [825123, 831447, 840361, 845307, 852014, 85498...  \n",
      "1  [852662, 856942, 997025, 1030547, 1049998, 105...  \n",
      "2  [841266, 865178, 953561, 991024, 995242, 99590...  \n",
      "3  [827656, 831447, 845896, 852662, 856942, 85754...  \n",
      "4  [852662, 856942, 887375, 909472, 922417, 93113...  \n"
     ]
    }
   ],
   "source": [
    "print(baskets.head())"
   ]
  },
  {
   "cell_type": "markdown",
   "id": "6be5f9c9-d7c0-4eb9-a186-83c2a994caea",
   "metadata": {},
   "source": [
    "### creating household histories using sessionized baskets"
   ]
  },
  {
   "cell_type": "code",
   "execution_count": null,
   "id": "f2a3acec-95ec-4ce3-9aa8-27df0686e651",
   "metadata": {},
   "outputs": [],
   "source": [
    "household_histories = (\n",
    "    baskets.groupby('household_key')['products']\n",
    "           .apply(list)  # list of baskets, each basket is a list of product IDs\n",
    "           .reset_index(name='basket_sequence')\n",
    ")"
   ]
  },
  {
   "cell_type": "code",
   "execution_count": null,
   "id": "e30c4da6-782b-4cdf-9703-f19b40b418b6",
   "metadata": {},
   "outputs": [
    {
     "name": "stdout",
     "output_type": "stream",
     "text": [
      "   household_key                                    basket_sequence\n",
      "0              1  [[825123, 831447, 840361, 845307, 852014, 8549...\n",
      "1              2  [[854852, 930118, 1077555, 1098066, 5567388, 5...\n",
      "2              3  [[866211, 878996, 882830, 904360, 921345, 9319...\n",
      "3              4  [[836163, 857849, 877523, 878909, 883932, 8914...\n",
      "4              5  [[938983, 5980822], [1012352], [825538, 100249...\n"
     ]
    }
   ],
   "source": [
    "print(household_histories.head())"
   ]
  },
  {
   "cell_type": "markdown",
   "id": "f9634af3-d464-495b-8e98-bd0ff2d23c2f",
   "metadata": {},
   "source": [
    "## mapping (tokenization of household ids)"
   ]
  },
  {
   "cell_type": "code",
   "execution_count": null,
   "id": "cd7575fd-8f11-4981-810a-07ae03509031",
   "metadata": {},
   "outputs": [
    {
     "name": "stdout",
     "output_type": "stream",
     "text": [
      "[[6533, 7270, 8279, 8837, 9648, 9975, 10188, 16475, 19753, 20314, 21664, 23826, 25298, 27034, 29038, 31180, 32531, 32547, 32681, 32714, 34677, 35571, 40964, 52618, 53643, 60255, 60427, 60714, 60905, 62314], [9720, 10188, 25951, 29738, 31958, 32611, 35571, 58531, 60255, 62441, 65627, 67673], [8372, 11131, 21176, 25298, 25749, 25826, 30026, 34726, 36246, 41401, 67570, 67673], [6835, 7270, 8911, 9720, 10188, 10255, 12382, 12606, 15635, 18858, 18926, 20314, 25361, 25749, 27279, 29038, 34677, 35142, 53643, 55050, 56999, 60255, 68513], [9720, 10188, 13575, 16108, 17608, 18610, 18816, 23840, 25749, 38561, 52606, 53643, 60255, 61100, 63463, 67673, 71656], [10188, 10609, 18036, 18973, 21176, 24633, 25749, 32681, 60255, 65627], [9281, 11259, 21963, 22520, 25749, 34519, 58291, 60714, 68513], [7189, 8961, 9152, 9720, 10188, 10447, 13732, 16336, 17867, 18610, 19720, 19753, 22520, 23197, 25749, 30026, 30683, 31958, 32611, 33203, 34677, 34742, 35010, 35137, 35571, 35586, 36170, 37602, 40167, 53643, 53839, 55905, 56795, 60150, 61480, 67673, 68513, 69957, 70180], [6533, 9720, 10188, 10238, 13021, 13655, 16331, 17000, 17842, 17867, 19403, 20314, 25749, 26864, 28815, 28886, 30681, 32304, 32531, 34370, 34726, 35571, 35586, 36132, 36183, 36310, 37202, 41384, 41700, 60781, 61585, 62441, 65627, 67673, 70307, 71656], [6389, 6533, 9720, 9965, 10188, 10437, 20970, 21176, 24092, 25252, 25749, 29596, 31047, 31175, 31958, 32681, 32714, 35454, 35541, 35571, 37588, 37675, 37778, 37893, 38722, 53643, 60255, 67673, 68513], [9648, 10188, 11259, 18610, 18926, 18941, 19753, 19913, 25749, 26530, 35217, 35571, 35586, 40167, 52618, 53117, 60255, 60905], [6839, 8279, 9965, 12723, 13137, 13842, 14791, 16336, 19403, 20471, 21032, 22056, 23840, 25361, 25777, 26231, 28425, 29038, 30026, 31124, 31180, 32531, 33291, 34677, 35586, 35745, 36183, 36446, 36938, 37935, 38117, 38714, 41635, 41700, 53643, 62441, 68513], [8438, 8813, 10188, 10990, 13374, 24876, 25749, 30459, 34726, 61090, 69168, 74508], [9965, 10188, 16475, 17398, 18816, 19403, 21232, 21664, 24049, 30331, 31797, 31980, 32057, 33617, 34677, 35571, 40756, 40853, 55905, 57454, 65627, 67673, 69168, 69885, 71656, 74000], [7644, 10188, 11259, 11627, 17332, 18610, 19403, 21664, 24499, 25298, 26864, 27034, 29864, 31180, 31797, 34109, 34677, 34998, 35571, 35586, 36183, 37935, 53643, 55050, 56874, 57008, 60623, 60749, 61090, 69168, 75557, 75580], [7756, 19753, 24499, 29150, 29663, 32057, 36183, 60781, 62441, 78430], [8279, 10188, 16475, 18371, 21664, 22231, 23826, 25361, 25749, 27034, 29187, 30331, 31958, 32531, 40960, 65627, 67673, 71656, 74433, 78430], [8279, 10188, 10622, 13184, 26894, 65627, 76724], [7644, 9720, 9824, 10040, 10188, 10192, 10406, 11363, 11496, 13137, 13950, 15838, 16651, 18322, 18371, 18926, 19403, 19753, 22205, 23442, 23994, 25361, 25445, 26894, 26991, 27034, 27279, 29050, 29864, 30575, 31047, 31180, 31883, 31980, 32531, 32714, 34677, 35571, 36180, 37674, 38000, 38561, 39721, 52618, 61090, 61100, 65793, 68513, 71879, 75582], [52436], [10188, 10192, 11162, 11947, 18610, 18973, 19753, 20314, 24850, 26991, 30331, 32057, 35571, 37306, 56999, 62430, 67673], [52499], [9249, 10188, 10437, 11363, 12606, 16651, 18973, 20844, 22810, 23172, 25361, 27781, 29038, 29652, 30331, 31142, 31958, 35254, 35571, 37494, 38029, 38117, 40167, 41264, 41401, 60781, 62441, 67673, 69168, 74000], [8645, 10188, 11879, 13737, 18371, 19403, 19745, 20970, 24939, 25749, 26899, 26991, 27781, 31180, 32681, 35571, 35822, 38561, 38827, 40167, 40974, 52842, 52880, 55050, 55905, 67673, 68503, 68513, 70123, 75359], [8107, 8279, 8782, 9249, 10188, 11131, 11162, 11259, 13760, 15000, 16651, 18260, 18610, 19753, 20743, 21250, 21664, 22926, 23065, 23674, 24052, 24059, 25252, 25361, 25786, 27034, 29038, 29652, 30026, 30331, 31180, 31883, 31958, 31980, 34677, 35254, 35571, 36770, 37935, 52520, 62441, 62601, 65627, 67673, 67733, 69862, 74496], [18877, 32714, 37538, 40974, 77629], [7644, 10188, 18973, 19403, 19753, 20970, 22529, 26991, 28425, 35571, 62601, 67673, 68513], [6357, 7445, 9965, 10188, 11509, 14496, 15816, 16108, 16336, 17176, 17587, 17728, 18973, 19753, 20489, 24858, 26147, 31958, 33291, 34677, 35571, 36113, 36770, 36959, 37935, 39000, 53839, 55050, 58150, 62601, 65627, 67673, 69869, 70281, 74677], [7774, 10188, 10352, 17108, 18973, 19753, 25361, 25512, 25749, 25808, 26045, 26102, 26130, 27619, 30331, 31958, 36310, 38009, 65627, 67673, 76990], [6122, 10188, 10627, 13757, 16160, 16308, 18322, 18926, 18973, 19753, 22529, 24059, 24858, 25749, 26864, 27781, 28425, 34677, 35015, 35571, 39925, 62434, 62441, 65627, 67673, 68524, 74195, 75584, 76295], [10188, 22810, 24858, 25361, 27034, 31958, 35571], [8126, 10188, 10437, 10680, 14791, 18973, 19227, 19753, 20592, 22056, 24858, 25749, 26864, 33291, 34109, 34726, 35571, 36770, 38548, 40806, 55905, 65627, 67191, 68513, 69163, 71785, 72678], [7923, 9304, 9549, 10188, 10680, 11081, 11363, 13374, 15000, 18973, 19227, 19403, 19753, 20489, 21664, 22056, 23197, 24858, 25361, 25749, 25777, 26991, 27034, 27579, 27781, 30575, 31047, 31180, 31958, 32531, 34109, 34677, 35571, 35781, 38561, 38827, 40167, 40909, 53643, 53839, 55724, 58274, 60781, 62661, 65353, 66868, 67409, 67673, 68513, 68988, 76294, 79304], [8343, 10188, 13184, 15595, 16336, 19753, 23489, 24072, 24858, 25361, 27034, 30649, 31180, 33291, 34677, 35571, 37935, 39323, 40964, 52395, 53022, 65627, 70651, 72935, 75582, 75767], [10188, 10437, 12511, 12790, 14123, 15419, 16329, 17398, 18610, 18973, 19753, 20037, 23826, 24858, 25361, 25749, 25786, 26864, 35571, 35586, 37705, 38117, 53643, 55050, 55724, 62441, 62840, 68513, 71306, 72785, 73325, 73873, 75767, 76294, 77253, 81655, 82724], [52499], [7157, 7774, 8782, 9302, 10188, 10680, 13950, 14726, 15115, 15604, 18322, 23197, 24049, 25749, 26991, 31180, 31958, 32236, 34726, 34853, 35571, 35650, 36770, 38561, 40167, 53643, 55724, 65627, 68033, 73790, 73998, 75482, 76196, 76295, 81655, 83705], [55047], [32159], [52499], [9281, 10188, 10680, 12296, 12511, 12606, 12790, 17216, 19753, 22056, 22554, 22940, 23840, 24452, 24858, 25252, 25361, 25749, 27781, 30683, 31958, 34677, 34726, 35254, 35334, 35571, 36183, 39935, 40167, 41401, 65627, 67673, 69709, 69944, 81339], [9720, 10188, 12511, 12790, 15108, 16160, 17215, 19275, 19403, 19753, 22504, 24858, 24939, 25749, 27034, 27595, 30575, 31958, 34677, 34726, 35137, 35571, 36246, 36770, 37000, 40004, 40836, 55050, 57143, 62650, 65627, 73365, 74496, 81091, 82281, 84385, 84558], [8279, 9720, 10188, 11162, 12511, 14212, 15108, 18610, 19753, 20037, 21664, 23977, 25298, 25361, 25749, 27034, 28035, 28425, 31762, 31958, 31980, 34677, 34726, 36246, 38126, 41704, 53117, 53643, 55905, 75557, 84041], [53700], [7278, 9720, 10188, 22627, 28815, 29416, 30517, 31686, 33485, 34184, 36077, 62441, 67673, 68513, 75600], [6720, 7306, 7445, 7790, 8279, 9720, 10171, 10188, 10542, 11131, 12508, 12511, 13117, 14123, 15108, 15595, 19227, 19403, 19753, 21483, 21664, 23143, 24452, 24858, 25512, 25749, 26102, 26864, 30459, 31341, 31958, 35571, 35586, 36183, 36246, 36770, 37012, 41139, 55047, 59444, 62650, 63267, 65627, 69869, 71656, 73790, 75589, 81339, 83861], [28721, 55047], [10188, 12511, 12790, 14041, 18610, 19753, 20218, 25361, 25749, 27034, 30459, 31158, 31958, 35571, 36183, 36246, 40167, 41068, 53839, 60906, 65627, 67673, 73790, 75582, 81655, 83723], [8279, 10188, 11947, 12508, 15108, 16651, 17608, 22554, 25265, 25749, 26899, 31958, 33520, 35571, 35586, 36183, 36246, 37202, 37976, 38827, 39935, 41139, 41451, 65268, 67673, 69168, 81655, 83723], [10188, 11162, 13117, 13643, 17587, 18926, 19753, 20489, 21105, 21131, 25298, 25749, 28815, 30914, 31958, 34677, 35586, 36183, 36310, 40167, 53643, 57397, 59486, 65853, 66598, 67673], [28721, 55047], [10188, 12508, 15108, 18610, 20218, 26991, 31958, 35571, 36183, 53643, 76401], [8782, 10188, 12511, 13643, 17398, 25749, 26240, 30026, 34726, 53643, 67673, 73365], [8279, 8813, 9921, 9965, 10188, 13184, 13643, 14123, 14791, 16475, 17108, 19227, 21232, 21664, 23826, 25298, 25324, 25361, 26991, 27034, 31180, 31850, 31958, 34677, 35571, 36246, 38117, 40167, 41484, 41638, 53643, 62650, 67393, 67673, 67748, 68513, 71656, 75820, 76295, 81339], [53643], [35586, 38034, 87174], [7756, 10188, 10783, 11259, 12508, 12511, 13643, 19753, 25749, 35571, 59486, 67673, 84558, 87318], [10188, 12511, 15108, 18610, 20606, 25786, 33203, 34184, 35576, 36043, 36246, 39761, 39935, 53839, 62650, 66618], [13643, 16548, 25749, 36246, 40167, 53643, 59729, 67748], [5837], [67673], [34081], [6720, 7569, 8782, 10188, 10628, 13117, 13643, 14812, 15108, 15500, 19227, 19753, 21280, 23196, 24072, 25361, 26864, 27619, 29187, 31958, 32304, 35010, 35571, 40004, 53116, 53839, 55050, 55724, 61100, 67673, 68513, 71656, 73325, 76294, 81339, 87496], [10188, 22056, 34109, 53643], [5936, 7756, 9258, 10188, 12508, 12511, 13186, 14791, 15604, 17848, 19753, 21664, 23826, 25298, 25361, 26130, 27034, 29187, 30459, 31201, 31850, 32531, 34066, 34677, 34726, 35254, 35454, 35571, 35586, 36115, 36686, 37233, 37381, 37935, 39935, 41390, 41401, 53643, 53839, 55905, 59486, 62650, 67748, 68513, 70354, 72785, 81339, 89269], [8279, 10188, 10192, 10493, 11473, 12508, 12511, 15108, 16570, 17728, 17848, 18322, 20120, 23686, 23826, 23977, 25749, 26311, 28666, 31047, 31180, 34066, 34677, 35010, 35254, 35571, 35586, 37233, 37324, 37381, 40194, 64240, 65627, 67748, 69709, 73626, 74496, 79334, 81339, 88532, 89250], [7849, 10188, 12511, 18926, 20606, 30459, 30903, 35254, 64240, 67748], [7122, 8279, 9824, 10188, 11164, 13950, 14677, 15079, 15108, 15816, 18610, 19753, 20218, 23174, 24049, 25252, 26102, 28274, 29187, 34726, 35254, 35571, 37324, 62714, 64240, 67748, 82360, 89269], [9824, 11162, 11418, 11947, 12262, 12296, 12508, 12606, 12787, 13950, 16483, 17587, 19403, 19745, 19753, 21664, 22529, 23686, 24049, 24499, 25298, 25361, 25693, 25749, 26864, 27034, 29187, 30307, 31618, 31958, 31980, 35010, 35571, 36115, 36310, 37233, 37324, 37381, 37778, 39628, 39912, 40004, 41163, 55047, 62650, 64215, 64240, 65627, 67748, 68513, 71656, 73998, 81370, 86985, 87896], [26894], [15867, 16113, 19753, 22295, 33848, 87021, 88460], [5936, 8279, 10188, 11162, 16331, 25749, 31980, 34726, 37116, 41153, 65627, 89786], [7041, 7699, 7833, 9582, 12296, 12508, 12710, 19403, 19753, 19813, 21283, 22810, 24059, 25749, 31958, 32531, 34066, 34109, 34677, 35571, 35576, 35586, 37538, 39222, 40756, 55905, 62650, 64240, 67748, 83541, 83991, 89771, 89822], [26894, 68513], [7072, 7124, 7445, 8279, 10188, 11879, 12511, 15132, 15582, 18610, 22940, 30331, 31180, 31958, 35571, 41484, 41716, 41785, 53643, 64240, 67409, 67748, 71656], [6133, 7626, 10188, 11162, 13760, 15931, 16651, 20037, 21010, 21287, 21664, 22182, 22926, 23197, 24049, 24858, 25252, 25749, 26864, 26894, 31077, 31980, 33152, 33291, 33565, 34129, 34677, 35571, 40964, 41139, 57252, 84424, 89568, 90976], [13184, 17035, 18685, 22056, 25749, 26541, 29799, 34677, 62441, 64240, 65627, 67692, 89218], [31958], [10188, 10680, 11627, 12508, 15963, 18926, 19753, 20315, 21798, 23197, 23977, 24049, 26894, 29864, 31047, 31846, 31958, 34677, 35455, 35571, 37705, 39222, 40004, 41092, 41144, 53643, 62650, 64240, 65401, 69168, 73365, 83063, 88229, 88772], [12790, 13184, 18610, 19403, 19753, 20473, 21105, 21664, 21791, 22056, 22182, 22554, 23690, 24049, 24858, 25252, 25298, 26864, 26894, 30525, 30575, 31444, 31618, 31958, 33291, 34726, 36115, 38881, 40986, 41092, 53839, 67748, 75582, 84558, 88520, 88772], [12731, 18973, 39222, 40167, 53437, 56999, 81187, 84473, 89250], [12508, 12511, 19227, 19403, 19753, 21176, 21791, 23197, 23739, 23820, 24858, 29227, 30331, 30459, 31180, 31958, 33291, 33783, 34677, 35571, 36954, 38561, 41139, 64227, 64309, 67748, 79823, 81339, 88520, 89218, 89822, 91758], [7967, 9302, 23368, 34184, 36197, 87334], [41626], [8279, 14007, 17868, 19181, 19403, 21005, 21176, 21664, 23083, 25361, 25749, 31180, 31974, 33645, 34109, 35576, 37935, 64240, 69168, 69914, 71656, 82739, 91033, 91636], [5936, 7143, 7774, 11210, 14791, 16010, 19227, 19753, 20713, 22056, 23840, 24049, 25052, 26864, 26894, 31047, 31958, 32582, 33721, 35571, 35576, 53984, 55047, 62441, 62537, 67748, 75844, 80978, 88571, 91366]]\n",
      "Vocab size (including PAD): 92340\n"
     ]
    }
   ],
   "source": [
    "import json, os\n",
    "from itertools import chain\n",
    "\n",
    "#Collecting all unique product IDs\n",
    "all_products = set(chain.from_iterable(chain.from_iterable(household_histories['basket_sequence'])))\n",
    "\n",
    "#Building mappings\n",
    "product2id = {pid: idx+1 for idx, pid in enumerate(sorted(all_products))}  # 1..N\n",
    "id2product = {idx: pid for pid, idx in product2id.items()}\n",
    "PAD_ID = 0  # Reserved for padding\n",
    "\n",
    "# Saving mappings\n",
    "os.makedirs(\"data/mappings\", exist_ok=True)\n",
    "with open(\"data/mappings/product2id.json\", \"w\") as f:\n",
    "    json.dump(product2id, f)\n",
    "with open(\"data/mappings/id2product.json\", \"w\") as f:\n",
    "    json.dump(id2product, f)\n",
    "\n",
    "#Applying tokenization to basket sequences\n",
    "def tokenize_baskets(baskets, mapping):\n",
    "    return [[mapping[pid] for pid in basket] for basket in baskets]\n",
    "\n",
    "household_histories['basket_sequence_tok'] = household_histories['basket_sequence'].apply(\n",
    "    lambda baskets: tokenize_baskets(baskets, product2id)\n",
    ")\n",
    "\n",
    "# 5. Quick check\n",
    "print(household_histories.head(1)['basket_sequence_tok'].iloc[0])\n",
    "print(f\"Vocab size (including PAD): {len(product2id) + 1}\")"
   ]
  },
  {
   "cell_type": "code",
   "execution_count": null,
   "id": "72f9130e-b57b-4d09-b8ba-377dbfbebf34",
   "metadata": {},
   "outputs": [
    {
     "name": "stdout",
     "output_type": "stream",
     "text": [
      "   household_key                                    basket_sequence  \\\n",
      "0              1  [[825123, 831447, 840361, 845307, 852014, 8549...   \n",
      "1              2  [[854852, 930118, 1077555, 1098066, 5567388, 5...   \n",
      "2              3  [[866211, 878996, 882830, 904360, 921345, 9319...   \n",
      "3              4  [[836163, 857849, 877523, 878909, 883932, 8914...   \n",
      "4              5  [[938983, 5980822], [1012352], [825538, 100249...   \n",
      "\n",
      "                                 basket_sequence_tok  \n",
      "0  [[6533, 7270, 8279, 8837, 9648, 9975, 10188, 1...  \n",
      "1  [[9957, 18504, 35032, 37354, 52800, 52837, 529...  \n",
      "2  [[11256, 12682, 13094, 15500, 17484, 18697, 19...  \n",
      "3  [[7808, 10290, 12527, 12673, 13226, 14014, 146...  \n",
      "4  [[19533, 55164], [27688], [6586, 26588, 58732]...  \n"
     ]
    }
   ],
   "source": [
    "print(household_histories.head())"
   ]
  },
  {
   "cell_type": "markdown",
   "id": "3a92b55a-25e3-46e8-92c0-8f07fe9fb0d8",
   "metadata": {},
   "source": [
    "## flattening household_history, because we want to predict for next product for now and not next basket"
   ]
  },
  {
   "cell_type": "code",
   "execution_count": null,
   "id": "b3bb6600-97a2-444f-b597-5bda36e8f582",
   "metadata": {},
   "outputs": [
    {
     "name": "stdout",
     "output_type": "stream",
     "text": [
      "   household_key                                      flat_sequence\n",
      "0              1  [6533, 7270, 8279, 8837, 9648, 9975, 10188, 16...\n",
      "1              2  [9957, 18504, 35032, 37354, 52800, 52837, 5297...\n",
      "2              3  [11256, 12682, 13094, 15500, 17484, 18697, 193...\n",
      "Example sequence length: 1727\n"
     ]
    }
   ],
   "source": [
    "from itertools import chain\n",
    "\n",
    "# Step 6: Flatten basket_sequence_tok into a single sequence per household\n",
    "def flatten_baskets(baskets_tok):\n",
    "    \"\"\"\n",
    "    baskets_tok: list of baskets, where each basket is a list of token IDs.\n",
    "    Returns: a flat list of token IDs (chronological order).\n",
    "    \"\"\"\n",
    "    return list(chain.from_iterable(baskets_tok))\n",
    "\n",
    "household_histories['flat_sequence'] = household_histories['basket_sequence_tok'].apply(flatten_baskets)\n",
    "\n",
    "# Quick check\n",
    "print(household_histories[['household_key', 'flat_sequence']].head(3))\n",
    "print(f\"Example sequence length: {len(household_histories['flat_sequence'].iloc[0])}\")\n"
   ]
  },
  {
   "cell_type": "code",
   "execution_count": null,
   "id": "49a8a65f-5ea3-4ea2-a1bf-243e62b6757e",
   "metadata": {},
   "outputs": [
    {
     "name": "stdout",
     "output_type": "stream",
     "text": [
      "Index(['household_key', 'basket_sequence', 'basket_sequence_tok',\n",
      "       'flat_sequence'],\n",
      "      dtype='object')\n"
     ]
    }
   ],
   "source": [
    "from itertools import chain\n",
    "\n",
    "# Make sure basket_sequence_tok exists before this\n",
    "def flatten_baskets(baskets_tok):\n",
    "    return list(chain.from_iterable(baskets_tok))\n",
    "\n",
    "household_histories['flat_sequence'] = household_histories['basket_sequence_tok'].apply(flatten_baskets)\n",
    "\n",
    "print(household_histories.columns)  # should now include 'flat_sequence'"
   ]
  },
  {
   "cell_type": "markdown",
   "id": "874e4af0-0d84-447e-b32a-87175a908feb",
   "metadata": {},
   "source": [
    "## input target pair"
   ]
  },
  {
   "cell_type": "code",
   "execution_count": null,
   "id": "5d4348a5-0c16-407a-bb04-801d2b575ed3",
   "metadata": {},
   "outputs": [
    {
     "name": "stdout",
     "output_type": "stream",
     "text": [
      "   household_key                                                seq  target  \\\n",
      "0              1  [0, 0, 0, 0, 0, 0, 0, 0, 0, 0, 0, 0, 0, 0, 0, ...    7270   \n",
      "1              1  [0, 0, 0, 0, 0, 0, 0, 0, 0, 0, 0, 0, 0, 0, 0, ...    8279   \n",
      "2              1  [0, 0, 0, 0, 0, 0, 0, 0, 0, 0, 0, 0, 0, 0, 0, ...    8837   \n",
      "3              1  [0, 0, 0, 0, 0, 0, 0, 0, 0, 0, 0, 0, 0, 0, 0, ...    9648   \n",
      "4              1  [0, 0, 0, 0, 0, 0, 0, 0, 0, 0, 0, 0, 0, 0, 0, ...    9975   \n",
      "\n",
      "   seq_len  \n",
      "0        1  \n",
      "1        2  \n",
      "2        3  \n",
      "3        4  \n",
      "4        5  \n",
      "Total examples: 2593232\n"
     ]
    }
   ],
   "source": [
    "import pandas as pd\n",
    "\n",
    "PAD_ID = 0\n",
    "MAX_LEN = 50  # maximum length of input sequence\n",
    "\n",
    "def make_input_target_pairs(flat_sequence, max_len=MAX_LEN, pad_id=PAD_ID):\n",
    "    \"\"\"\n",
    "    Given a flat list of product IDs, return (input_seq, target, seq_len) tuples.\n",
    "    \"\"\"\n",
    "    examples = []\n",
    "    for i in range(1, len(flat_sequence)):\n",
    "        # Input is everything before the target position, limited to max_len tokens\n",
    "        input_seq = flat_sequence[max(0, i - max_len):i]\n",
    "        \n",
    "        # Left-pad with PAD_ID\n",
    "        if len(input_seq) < max_len:\n",
    "            input_seq = [pad_id] * (max_len - len(input_seq)) + input_seq\n",
    "        \n",
    "        target = flat_sequence[i]\n",
    "        seq_len = sum(1 for x in input_seq if x != pad_id)\n",
    "        \n",
    "        examples.append((input_seq, target, seq_len))\n",
    "    return examples\n",
    "\n",
    "# Build training examples\n",
    "all_examples = []\n",
    "for _, row in household_histories.iterrows():\n",
    "    for seq, target, seq_len in make_input_target_pairs(row['flat_sequence']):\n",
    "        all_examples.append({\n",
    "            \"household_key\": row['household_key'],\n",
    "            \"seq\": seq,\n",
    "            \"target\": target,\n",
    "            \"seq_len\": seq_len\n",
    "        })\n",
    "\n",
    "examples_df = pd.DataFrame(all_examples)\n",
    "\n",
    "# Quick check\n",
    "print(examples_df.head())\n",
    "print(f\"Total examples: {len(examples_df)}\")\n"
   ]
  },
  {
   "cell_type": "markdown",
   "id": "9bf0bc9f-9d92-4964-bb86-0d67c5bede4b",
   "metadata": {},
   "source": [
    "## temporal split"
   ]
  },
  {
   "cell_type": "code",
   "execution_count": null,
   "id": "7d686adb-ffc7-48ae-bb2a-5745a5d7e697",
   "metadata": {},
   "outputs": [
    {
     "name": "stdout",
     "output_type": "stream",
     "text": [
      "Train: 2073557, Val: 259208, Test: 260467\n"
     ]
    }
   ],
   "source": [
    "import pandas as pd\n",
    "\n",
    "def temporal_split(df, train_ratio=0.8, val_ratio=0.1):\n",
    "    \"\"\"\n",
    "    Split each household's examples into train/val/test by chronological order.\n",
    "    Assumes df is ordered by sequence position.\n",
    "    \"\"\"\n",
    "    train_parts, val_parts, test_parts = [], [], []\n",
    "    \n",
    "    for hh, group in df.groupby(\"household_key\"):\n",
    "        n = len(group)\n",
    "        train_end = int(n * train_ratio)\n",
    "        val_end = int(n * (train_ratio + val_ratio))\n",
    "        \n",
    "        train_parts.append(group.iloc[:train_end])\n",
    "        val_parts.append(group.iloc[train_end:val_end])\n",
    "        test_parts.append(group.iloc[val_end:])\n",
    "    \n",
    "    train_df = pd.concat(train_parts).reset_index(drop=True)\n",
    "    val_df   = pd.concat(val_parts).reset_index(drop=True)\n",
    "    test_df  = pd.concat(test_parts).reset_index(drop=True)\n",
    "    \n",
    "    return train_df, val_df, test_df\n",
    "\n",
    "# Apply split\n",
    "train_df, val_df, test_df = temporal_split(examples_df)\n",
    "\n",
    "# Save to parquet\n",
    "import os\n",
    "os.makedirs(\"data/splits\", exist_ok=True)\n",
    "train_df.to_parquet(\"data/splits/train.parquet\", index=False)\n",
    "val_df.to_parquet(\"data/splits/val.parquet\", index=False)\n",
    "test_df.to_parquet(\"data/splits/test.parquet\", index=False)\n",
    "\n",
    "print(f\"Train: {len(train_df)}, Val: {len(val_df)}, Test: {len(test_df)}\")\n"
   ]
  }
 ],
 "metadata": {
  "kernelspec": {
   "display_name": "Python 3 (ipykernel)",
   "language": "python",
   "name": "python3"
  },
  "language_info": {
   "codemirror_mode": {
    "name": "ipython",
    "version": 3
   },
   "file_extension": ".py",
   "mimetype": "text/x-python",
   "name": "python",
   "nbconvert_exporter": "python",
   "pygments_lexer": "ipython3",
   "version": "3.12.7"
  }
 },
 "nbformat": 4,
 "nbformat_minor": 5
}
